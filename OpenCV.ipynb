{
 "cells": [
  {
   "cell_type": "code",
   "execution_count": 1,
   "id": "0f1a861a",
   "metadata": {},
   "outputs": [],
   "source": [
    "import cv2\n",
    "import torch\n",
    "import torchvision.models as models"
   ]
  },
  {
   "cell_type": "code",
   "execution_count": 2,
   "id": "fe1eed94",
   "metadata": {},
   "outputs": [],
   "source": [
    "def prediction(stream, model):\n",
    "    model.to(stream)\n",
    "    with torch.no_grad():\n",
    "        input = input.to(device)\n",
    "        out = model(input)\n",
    "        _, pre = torch.max(out.data, 1)\n",
    "\n",
    "    return pre.item()"
   ]
  },
  {
   "cell_type": "code",
   "execution_count": null,
   "id": "f4eb1583",
   "metadata": {},
   "outputs": [],
   "source": [
    "if __name__ == '__main__':\n",
    "    while(True):\n",
    "        stream = cv2.VideoCapture(0)\n",
    "        ret, frame = stream.read()\n",
    "        cv2.imshow('frame', frame)\n",
    "        \n",
    "        net = models.googlenet(pretrained=True)\n",
    "        pthfile = r'model.pth'\n",
    "        #net.load_state_dict(torch.load(pthfile))\n",
    "        net.load_state_dict(torch.load(pthfile, map_location=torch.device('cpu')))\n",
    "        ans = prediction(frame, net)\n",
    "        \n",
    "        if cv2.waitKey(1) & 0xFF == ord('q'):\n",
    "            break\n",
    "\n",
    "    cap.release()\n",
    "    cv2.destroyAllWindows()"
   ]
  }
 ],
 "metadata": {
  "kernelspec": {
   "display_name": "Python 3 (ipykernel)",
   "language": "python",
   "name": "python3"
  },
  "language_info": {
   "codemirror_mode": {
    "name": "ipython",
    "version": 3
   },
   "file_extension": ".py",
   "mimetype": "text/x-python",
   "name": "python",
   "nbconvert_exporter": "python",
   "pygments_lexer": "ipython3",
   "version": "3.9.7"
  }
 },
 "nbformat": 4,
 "nbformat_minor": 5
}
